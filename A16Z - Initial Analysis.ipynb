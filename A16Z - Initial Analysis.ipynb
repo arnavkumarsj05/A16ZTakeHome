{
 "cells": [
  {
   "cell_type": "markdown",
   "metadata": {
    "application/vnd.databricks.v1+cell": {
     "cellMetadata": {
      "byteLimit": 2048000,
      "rowLimit": 10000
     },
     "inputWidgets": {},
     "nuid": "4b7e983c-914e-4f7e-98b3-c86366ba76b6",
     "showTitle": false,
     "tableResultSettingsMap": {},
     "title": ""
    }
   },
   "source": [
    "# Data Exploratory Analysis\n",
    "This notebook contains my initial exploratory analysis of the presented data, alongside my thought process for each block of code.\n"
   ]
  },
  {
   "cell_type": "markdown",
   "metadata": {
    "application/vnd.databricks.v1+cell": {
     "cellMetadata": {
      "byteLimit": 2048000,
      "rowLimit": 10000
     },
     "inputWidgets": {},
     "nuid": "2a77ead6-970a-42e5-b002-c9d7b1598ccf",
     "showTitle": false,
     "tableResultSettingsMap": {},
     "title": ""
    }
   },
   "source": [
    "### Initial Data Exploration \n",
    "I went through the data and inspected it from a few different angles to get a better sense of what I was working with, and what possible patterns could be used for analysis."
   ]
  },
  {
   "cell_type": "code",
   "execution_count": 0,
   "metadata": {
    "application/vnd.databricks.v1+cell": {
     "cellMetadata": {
      "byteLimit": 2048000,
      "rowLimit": 10000
     },
     "inputWidgets": {},
     "nuid": "8bbc6a1b-5a11-49e7-9bb0-fd7f92cae14f",
     "showTitle": false,
     "tableResultSettingsMap": {},
     "title": ""
    }
   },
   "outputs": [],
   "source": [
    "# Ingestion of Data into Accounts and Commitments Dataframes\n",
    "accounts_df = spark.table(\"workspace.default.accounts\")\n",
    "commitments_df = spark.table(\"workspace.default.commitments\")"
   ]
  },
  {
   "cell_type": "code",
   "execution_count": 0,
   "metadata": {
    "application/vnd.databricks.v1+cell": {
     "cellMetadata": {
      "byteLimit": 2048000,
      "rowLimit": 10000
     },
     "inputWidgets": {},
     "nuid": "0e44b365-6557-422f-b7cd-ffcba8a1ff4a",
     "showTitle": false,
     "tableResultSettingsMap": {},
     "title": ""
    },
    "jupyter": {
     "source_hidden": true
    }
   },
   "outputs": [
    {
     "output_type": "stream",
     "name": "stdout",
     "output_type": "stream",
     "text": [
      "Accounts schema:\nroot\n |-- id: string (nullable = true)\n |-- Organization_name_hashed: string (nullable = true)\n |-- RelationshipType: string (nullable = true)\n |-- AccountType: string (nullable = true)\n |-- BiteLow: double (nullable = true)\n |-- BiteHigh: double (nullable = true)\n |-- AccountLead: string (nullable = true)\n |-- HQCityStateCountry: string (nullable = true)\n\nCommitments schema:\nroot\n |-- id: string (nullable = true)\n |-- Commitment: double (nullable = true)\n |-- VehicleType: string (nullable = true)\n |-- LimitedPartner: string (nullable = true)\n |-- FundName: string (nullable = true)\n\n"
     ]
    }
   ],
   "source": [
    "# Show schema to understand data types\n",
    "print(\"Accounts schema:\")\n",
    "accounts_df.printSchema()\n",
    "\n",
    "print(\"Commitments schema:\")\n",
    "commitments_df.printSchema()\n"
   ]
  },
  {
   "cell_type": "markdown",
   "metadata": {
    "application/vnd.databricks.v1+cell": {
     "cellMetadata": {
      "byteLimit": 2048000,
      "rowLimit": 10000
     },
     "inputWidgets": {},
     "nuid": "71070cab-de8e-4e73-8fa1-382e3fa6d587",
     "showTitle": false,
     "tableResultSettingsMap": {},
     "title": ""
    }
   },
   "source": [
    "Checking Null and NaN counts in accounts and committments. It's important to understand the gaps in our data, especially when creating ML models and drawing conclusions from them."
   ]
  },
  {
   "cell_type": "code",
   "execution_count": 0,
   "metadata": {
    "application/vnd.databricks.v1+cell": {
     "cellMetadata": {
      "byteLimit": 2048000,
      "rowLimit": 10000
     },
     "inputWidgets": {},
     "nuid": "0c25aab2-2a6d-4fcb-a40c-722ecd1ce1d0",
     "showTitle": false,
     "tableResultSettingsMap": {},
     "title": ""
    },
    "jupyter": {
     "source_hidden": true
    }
   },
   "outputs": [
    {
     "output_type": "stream",
     "name": "stdout",
     "output_type": "stream",
     "text": [
      "Null/NaN counts in accounts:\n+---+------------------------+----------------+-----------+-------+--------+-----------+------------------+\n| id|Organization_name_hashed|RelationshipType|AccountType|BiteLow|BiteHigh|AccountLead|HQCityStateCountry|\n+---+------------------------+----------------+-----------+-------+--------+-----------+------------------+\n|  0|                       0|               0|        187|   2567|    2568|       1485|              1256|\n+---+------------------------+----------------+-----------+-------+--------+-----------+------------------+\n\nNull/NaN counts in commitments:\n+---+----------+-----------+--------------+--------+\n| id|Commitment|VehicleType|LimitedPartner|FundName|\n+---+----------+-----------+--------------+--------+\n|  0|        15|         32|          1004|      24|\n+---+----------+-----------+--------------+--------+\n\n"
     ]
    }
   ],
   "source": [
    "from pyspark.sql.functions import col, count, when, isnan\n",
    "from pyspark.sql.types import StringType, DoubleType, IntegerType, FloatType, LongType, DecimalType\n",
    "\n",
    "def count_nulls(df):\n",
    "    exprs = []\n",
    "    for c, t in df.dtypes:\n",
    "        if t in ('double', 'float', 'int', 'bigint', 'long', 'decimal'):\n",
    "            # For numeric types, check both null and NaN\n",
    "            exprs.append(count(when(col(c).isNull() | isnan(col(c)), c)).alias(c))\n",
    "        else:\n",
    "            # For non-numeric, just check nulls\n",
    "            exprs.append(count(when(col(c).isNull(), c)).alias(c))\n",
    "    return df.select(exprs)\n",
    "\n",
    "print(\"Null/NaN counts in accounts:\")\n",
    "count_nulls(accounts_df).show()\n",
    "\n",
    "print(\"Null/NaN counts in commitments:\")\n",
    "count_nulls(commitments_df).show()\n"
   ]
  },
  {
   "cell_type": "markdown",
   "metadata": {
    "application/vnd.databricks.v1+cell": {
     "cellMetadata": {
      "byteLimit": 2048000,
      "rowLimit": 10000
     },
     "inputWidgets": {},
     "nuid": "38f64df8-1029-471b-a05f-91ed6b518e24",
     "showTitle": false,
     "tableResultSettingsMap": {},
     "title": ""
    }
   },
   "source": [
    "Notably, there is a quite large number of NaN values in BiteLow, BiteHigh, AccountLead, Location in Accounts as well as the LimitedPartner Assignment in Commitments."
   ]
  },
  {
   "cell_type": "markdown",
   "metadata": {
    "application/vnd.databricks.v1+cell": {
     "cellMetadata": {
      "byteLimit": 2048000,
      "rowLimit": 10000
     },
     "inputWidgets": {},
     "nuid": "4dc209b9-cc9d-4286-b45e-087c0356a9ca",
     "showTitle": false,
     "tableResultSettingsMap": {},
     "title": ""
    }
   },
   "source": [
    "We can also analyze the 'orphaned' LPs, who have Commitments but aren't present in Accounts."
   ]
  },
  {
   "cell_type": "code",
   "execution_count": 0,
   "metadata": {
    "application/vnd.databricks.v1+cell": {
     "cellMetadata": {
      "byteLimit": 2048000,
      "rowLimit": 10000
     },
     "inputWidgets": {},
     "nuid": "340c0e91-93e1-4924-8864-d892502fe158",
     "showTitle": false,
     "tableResultSettingsMap": {},
     "title": ""
    },
    "jupyter": {
     "source_hidden": true
    }
   },
   "outputs": [
    {
     "output_type": "stream",
     "name": "stdout",
     "output_type": "stream",
     "text": [
      "Orphaned LP commitments (excluding NULL LP): 679\n"
     ]
    }
   ],
   "source": [
    "from pyspark.sql import functions as F\n",
    "\n",
    "# Orphaned LPs = commitments with NO matching accounts.id\n",
    "orphaned_commitments_df = (\n",
    "    commitments_df.alias(\"c\")\n",
    "    .join(\n",
    "        accounts_df.select(\"id\").alias(\"a\"),\n",
    "        F.col(\"c.LimitedPartner\") == F.col(\"a.id\"),\n",
    "        \"left_anti\"\n",
    "    )\n",
    "    .filter(F.col(\"c.LimitedPartner\").isNotNull())\n",
    ")\n",
    "\n",
    "orphan_count = orphaned_commitments_df.count()\n",
    "print(f\"Orphaned LP commitments (excluding NULL LP): {orphan_count}\")\n"
   ]
  },
  {
   "cell_type": "markdown",
   "metadata": {
    "application/vnd.databricks.v1+cell": {
     "cellMetadata": {
      "byteLimit": 2048000,
      "rowLimit": 10000
     },
     "inputWidgets": {},
     "nuid": "69963b86-419a-4659-a3aa-c02aeb6602d9",
     "showTitle": false,
     "tableResultSettingsMap": {},
     "title": ""
    }
   },
   "source": [
    "There are over 600 'orphaned' LPs in the dataset. This is pretty significant, and suggests there are some major gaps in the accounts data. In a production environment we would need to re-evaluate our data but since we are using sample data, we'll have to work with it."
   ]
  },
  {
   "cell_type": "code",
   "execution_count": 0,
   "metadata": {
    "application/vnd.databricks.v1+cell": {
     "cellMetadata": {
      "byteLimit": 2048000,
      "rowLimit": 10000
     },
     "inputWidgets": {},
     "nuid": "7205c4d3-66ec-4045-bada-31b3d25d2591",
     "showTitle": false,
     "tableResultSettingsMap": {
      "0": {
       "dataGridStateBlob": "{\"version\":1,\"tableState\":{\"columnPinning\":{\"left\":[\"#row_number#\"],\"right\":[]},\"columnSizing\":{},\"columnVisibility\":{}},\"settings\":{\"columns\":{}},\"syncTimestamp\":1758905159343}",
       "filterBlob": null,
       "queryPlanFiltersBlob": null,
       "tableResultIndex": 0
      }
     },
     "title": ""
    },
    "jupyter": {
     "source_hidden": true
    }
   },
   "outputs": [
    {
     "output_type": "display_data",
     "data": {
      "text/html": [
       "<style scoped>\n",
       "  .table-result-container {\n",
       "    max-height: 300px;\n",
       "    overflow: auto;\n",
       "  }\n",
       "  table, th, td {\n",
       "    border: 1px solid black;\n",
       "    border-collapse: collapse;\n",
       "  }\n",
       "  th, td {\n",
       "    padding: 5px;\n",
       "  }\n",
       "  th {\n",
       "    text-align: left;\n",
       "  }\n",
       "</style><div class='table-result-container'><table class='table-result'><thead style='background-color: white'><tr><th>BiteLow</th><th>BiteHigh</th></tr></thead><tbody><tr><td>100.0</td><td>200.0</td></tr><tr><td>10.0</td><td>30.0</td></tr><tr><td>5.0</td><td>20.0</td></tr><tr><td>5.0</td><td>20.0</td></tr><tr><td>15.0</td><td>45.0</td></tr></tbody></table></div>"
      ]
     },
     "metadata": {
      "application/vnd.databricks.v1+output": {
       "addedWidgets": {},
       "aggData": [],
       "aggError": "",
       "aggOverflow": false,
       "aggSchema": [],
       "aggSeriesLimitReached": false,
       "aggType": "",
       "arguments": {},
       "columnCustomDisplayInfos": {},
       "data": [
        [
         100.0,
         200.0
        ],
        [
         10.0,
         30.0
        ],
        [
         5.0,
         20.0
        ],
        [
         5.0,
         20.0
        ],
        [
         15.0,
         45.0
        ]
       ],
       "datasetInfos": [],
       "dbfsResultPath": null,
       "isJsonSchema": true,
       "metadata": {},
       "overflow": false,
       "plotOptions": {
        "customPlotOptions": {},
        "displayType": "table",
        "pivotAggregation": null,
        "pivotColumns": null,
        "xColumns": null,
        "yColumns": null
       },
       "removedWidgets": [],
       "schema": [
        {
         "metadata": "{}",
         "name": "BiteLow",
         "type": "\"double\""
        },
        {
         "metadata": "{}",
         "name": "BiteHigh",
         "type": "\"double\""
        }
       ],
       "type": "table"
      }
     },
     "output_type": "display_data"
    },
    {
     "output_type": "display_data",
     "data": {
      "text/html": [
       "<style scoped>\n",
       "  .table-result-container {\n",
       "    max-height: 300px;\n",
       "    overflow: auto;\n",
       "  }\n",
       "  table, th, td {\n",
       "    border: 1px solid black;\n",
       "    border-collapse: collapse;\n",
       "  }\n",
       "  th, td {\n",
       "    padding: 5px;\n",
       "  }\n",
       "  th {\n",
       "    text-align: left;\n",
       "  }\n",
       "</style><div class='table-result-container'><table class='table-result'><thead style='background-color: white'><tr><th>Commitment</th></tr></thead><tbody><tr><td>120000.0</td></tr><tr><td>5.0E7</td></tr><tr><td>1750000.0</td></tr><tr><td>3.24926E7</td></tr><tr><td>975000.0</td></tr></tbody></table></div>"
      ]
     },
     "metadata": {
      "application/vnd.databricks.v1+output": {
       "addedWidgets": {},
       "aggData": [],
       "aggError": "",
       "aggOverflow": false,
       "aggSchema": [],
       "aggSeriesLimitReached": false,
       "aggType": "",
       "arguments": {},
       "columnCustomDisplayInfos": {},
       "data": [
        [
         120000.0
        ],
        [
         5.0E7
        ],
        [
         1750000.0
        ],
        [
         3.24926E7
        ],
        [
         975000.0
        ]
       ],
       "datasetInfos": [],
       "dbfsResultPath": null,
       "isJsonSchema": true,
       "metadata": {},
       "overflow": false,
       "plotOptions": {
        "customPlotOptions": {},
        "displayType": "table",
        "pivotAggregation": null,
        "pivotColumns": null,
        "xColumns": null,
        "yColumns": null
       },
       "removedWidgets": [],
       "schema": [
        {
         "metadata": "{}",
         "name": "Commitment",
         "type": "\"double\""
        }
       ],
       "type": "table"
      }
     },
     "output_type": "display_data"
    }
   ],
   "source": [
    "# Display first 5 non-null BiteLow and BiteHigh from accounts_df\n",
    "display(\n",
    "    accounts_df.filter(\n",
    "        (accounts_df.BiteLow.isNotNull()) &\n",
    "        (accounts_df.BiteHigh.isNotNull())\n",
    "    )\n",
    "    .select(\"BiteLow\", \"BiteHigh\")\n",
    "    .limit(5)\n",
    ")\n",
    "\n",
    "# Display first 5 non-null Commitment from commitments_df\n",
    "display(\n",
    "    commitments_df.filter(\n",
    "        commitments_df.Commitment.isNotNull()\n",
    "    )\n",
    "    .select(\"Commitment\")\n",
    "    .limit(5)\n",
    ")"
   ]
  },
  {
   "cell_type": "markdown",
   "metadata": {
    "application/vnd.databricks.v1+cell": {
     "cellMetadata": {
      "byteLimit": 2048000,
      "rowLimit": 10000
     },
     "inputWidgets": {},
     "nuid": "78b08e32-7028-49a2-85d0-1472896eb058",
     "showTitle": false,
     "tableResultSettingsMap": {},
     "title": ""
    }
   },
   "source": [
    "One thing to note is that BiteHigh/Low are all represented in 'millions' whereas Commitments are in raw data, so we will have to scale BiteHigh/Low for better reporting."
   ]
  },
  {
   "cell_type": "markdown",
   "metadata": {
    "application/vnd.databricks.v1+cell": {
     "cellMetadata": {
      "byteLimit": 2048000,
      "rowLimit": 10000
     },
     "inputWidgets": {},
     "nuid": "05fe9d9a-e8be-4070-81e1-ba8c5c535b22",
     "showTitle": false,
     "tableResultSettingsMap": {},
     "title": ""
    }
   },
   "source": [
    "Next, I want to analyze the unique value counts for the RelationshipType, AccountType, and VehicleType Columns, as that will allow us to understand where these prospective investers are coming from. We can also visualize through a pie chart."
   ]
  },
  {
   "cell_type": "code",
   "execution_count": 0,
   "metadata": {
    "application/vnd.databricks.v1+cell": {
     "cellMetadata": {
      "byteLimit": 2048000,
      "rowLimit": 10000
     },
     "inputWidgets": {},
     "nuid": "d7cef3b5-b946-4d83-935c-d51cd229a86a",
     "showTitle": false,
     "tableResultSettingsMap": {},
     "title": ""
    },
    "jupyter": {
     "source_hidden": true
    }
   },
   "outputs": [
    {
     "output_type": "stream",
     "name": "stdout",
     "output_type": "stream",
     "text": [
      "+------------------------------------------------------------------------------------------------------------+-----+\n|RelationshipType                                                                                            |count|\n+------------------------------------------------------------------------------------------------------------+-----+\n|Other Partner / Enabler                                                                                     |562  |\n|Need Introduction                                                                                           |528  |\n|Friends & Family, Limited Partner                                                                           |509  |\n|Friends & Family                                                                                            |401  |\n|Low Prospect                                                                                                |342  |\n|High Prospect                                                                                               |324  |\n|Medium Prospect                                                                                             |306  |\n|Limited Partner                                                                                             |271  |\n|Actively Prospecting                                                                                        |136  |\n|Need to Review                                                                                              |106  |\n|a16z Employee LP                                                                                            |93   |\n|Low Prospect, Do Not Target (Compliance - e.g. China, Russia or Political Contribution)                     |37   |\n|Friends & Family, Limited Partner, Perennial                                                                |36   |\n|Limited Partner, Not Active                                                                                 |32   |\n|Bio Strategic Prospect                                                                                      |25   |\n|Need Introduction, Other Partner / Enabler                                                                  |14   |\n|Other Partner / Enabler, Need Introduction                                                                  |12   |\n|Limited Partner, Full Discretion by Advisor                                                                 |11   |\n|Medium Prospect, Bio Strategic Prospect                                                                     |10   |\n|Low Prospect, Bio Strategic Prospect                                                                        |9    |\n|Do Not Target (Compliance - e.g. China, Russia or Political Contribution)                                   |9    |\n|Need Introduction, Do Not Target (Compliance - e.g. China, Russia or Political Contribution)                |9    |\n|Need Introduction, Low Prospect                                                                             |8    |\n|Limited Partner, Do Not Target (Compliance - e.g. China, Russia or Political Contribution)                  |8    |\n|High Prospect, Indirect LP                                                                                  |7    |\n|Indirect LP                                                                                                 |7    |\n|Do Not Engage Ever                                                                                          |6    |\n|Limited Partner, Perennial                                                                                  |6    |\n|High Prospect, Do Not Target (Compliance - e.g. China, Russia or Political Contribution)                    |6    |\n|High Prospect, Bio Strategic Prospect                                                                       |6    |\n|Medium Prospect, Perennial                                                                                  |6    |\n|CLF                                                                                                         |6    |\n|Limited Partner, Friends & Family                                                                           |6    |\n|Limited Partner, CLF                                                                                        |5    |\n|Not Active                                                                                                  |5    |\n|Friends & Family, Perennial                                                                                 |5    |\n|Bio Strategic Prospect, Low Prospect                                                                        |5    |\n|Low Prospect, Not Active                                                                                    |4    |\n|Low Prospect, Indirect LP                                                                                   |4    |\n|Low Prospect, Do Not Engage 2026                                                                            |4    |\n|Other Partner / Enabler, Do Not Target (Compliance - e.g. China, Russia or Political Contribution)          |4    |\n|Indirect LP, Medium Prospect                                                                                |4    |\n|Low Prospect, Perennial                                                                                     |3    |\n|Perennial, High Prospect                                                                                    |3    |\n|Friends & Family, Perennial, Limited Partner                                                                |3    |\n|Perennial, Low Prospect                                                                                     |3    |\n|Other Partner / Enabler, Need to Review                                                                     |3    |\n|Bio Strategic Prospect, Need Introduction                                                                   |3    |\n|Exited LP                                                                                                   |3    |\n|Limited Partner, Perennial, Friends & Family                                                                |2    |\n|Portfolio Company                                                                                           |2    |\n|Subscale                                                                                                    |2    |\n|Medium Prospect, Indirect LP                                                                                |2    |\n|Perennial, Limited Partner                                                                                  |2    |\n|Other Partner / Enabler, Medium Prospect                                                                    |2    |\n|Limited Partner, Friends & Family, Do Not Engage Ever                                                       |2    |\n|Perennial                                                                                                   |2    |\n|Other Partner / Enabler, Bio Strategic Prospect, Low Prospect                                               |2    |\n|Other Partner / Enabler, Bio Strategic Prospect                                                             |2    |\n|Other Partner / Enabler, Indirect LP                                                                        |2    |\n|Indirect LP, Do Not Target (Compliance - e.g. China, Russia or Political Contribution)                      |2    |\n|Indirect LP, High Prospect                                                                                  |2    |\n|Friends & Family, Limited Partner, CLF                                                                      |2    |\n|Indirect LP, Do Not Engage Ever                                                                             |2    |\n|High Prospect, Perennial                                                                                    |2    |\n|Indirect LP, Do Not Engage 2026                                                                             |2    |\n|Medium Prospect, Do Not Target (Compliance - e.g. China, Russia or Political Contribution)                  |2    |\n|Limited Partner, Not Active, High Prospect                                                                  |2    |\n|Friends & Family, High Prospect                                                                             |2    |\n|Friends & Family, CLF                                                                                       |1    |\n|Bio Strategic Prospect, High Prospect                                                                       |1    |\n|Friends & Family, Medium Prospect                                                                           |1    |\n|Limited Partner, Not Active, Do Not Target (Compliance - e.g. China, Russia or Political Contribution)      |1    |\n|Actively Prospecting, Bio Strategic Prospect                                                                |1    |\n|Bio Strategic Prospect, Medium Prospect                                                                     |1    |\n|High Prospect, Friends & Family                                                                             |1    |\n|Limited Partner, Subscale                                                                                   |1    |\n|Limited Partner, Indirect LP                                                                                |1    |\n|High Prospect, Indirect LP, Do Not Target (Compliance - e.g. China, Russia or Political Contribution)       |1    |\n|Limited Partner, Need to Review, Friends & Family                                                           |1    |\n|Low Prospect, CLF                                                                                           |1    |\n|Perennial, Friends & Family, Limited Partner                                                                |1    |\n|a16z Vehicle                                                                                                |1    |\n|Friends & Family, Do Not Engage Ever                                                                        |1    |\n|Need Introduction, Perennial                                                                                |1    |\n|Need to Review, Do Not Target (Compliance - e.g. China, Russia or Political Contribution)                   |1    |\n|Indirect LP, Bio Strategic Prospect                                                                         |1    |\n|Medium Prospect, Need Introduction                                                                          |1    |\n|Need to Review, Low Prospect                                                                                |1    |\n|Medium Prospect, Do Not Engage 2026                                                                         |1    |\n|Friends & Family, Limited Partner, Do Not Target (Compliance - e.g. China, Russia or Political Contribution)|1    |\n|Friends & Family, CLF, Limited Partner                                                                      |1    |\n|Medium Prospect, Full Discretion by Advisor                                                                 |1    |\n|Indirect LP, Full Discretion by Advisor                                                                     |1    |\n|Low Prospect, Need Introduction                                                                             |1    |\n|Actively Prospecting, Full Discretion by Advisor                                                            |1    |\n|High Prospect, Indirect LP, Friends & Family                                                                |1    |\n|Low Prospect, Subscale                                                                                      |1    |\n|Medium Prospect, Indirect LP, Perennial                                                                     |1    |\n|Perennial, Do Not Engage 2026                                                                               |1    |\n|a16z Vehicle, Limited Partner                                                                               |1    |\n+------------------------------------------------------------------------------------------------------------+-----+\n\n+-------------------------+-----+\n|AccountType              |count|\n+-------------------------+-----+\n|High Net Worth Individual|943  |\n|Single Family Office     |564  |\n|Public Pension           |393  |\n|Multi-Family Office      |207  |\n|NULL                     |187  |\n|Emerging Manager         |179  |\n|Corporate Strategic      |133  |\n|Endowment                |133  |\n|Fund of Funds            |131  |\n|Financial Institution    |129  |\n|Government Entity        |126  |\n|Insurance                |104  |\n|Foundation               |104  |\n|a16z Vehicle             |95   |\n|Need to Review           |86   |\n|Company/Start-up         |75   |\n|Consultant               |75   |\n|Healthcare System        |73   |\n|Direct Investment Fund   |73   |\n|Corporate Pension        |71   |\n|Sovereign Wealth Fund    |46   |\n|Private Wealth           |39   |\n|Placement Agent          |17   |\n|Educational Institute    |3    |\n|other                    |1    |\n+-------------------------+-----+\n\n+----------------------+-----+\n|VehicleType           |count|\n+----------------------+-----+\n|Main Fund             |4558 |\n|Q Fund                |1470 |\n|B Fund                |763  |\n|Annual Fund - Coterie |464  |\n|A Fund                |332  |\n|CLF Fund              |144  |\n|Annual Fund           |114  |\n|Annual Fund - Kirkland|97   |\n|Co-Invest             |97   |\n|NULL                  |32   |\n|SMA                   |11   |\n+----------------------+-----+\n\n"
     ]
    }
   ],
   "source": [
    "# Understand Value Counts\n",
    "accounts_df.groupBy(\"RelationshipType\") \\\n",
    "    .count() \\\n",
    "    .orderBy(\"count\", ascending=False) \\\n",
    "    .show(150, truncate=False)\n",
    "\n",
    "accounts_df.groupBy(\"AccountType\") \\\n",
    "    .count() \\\n",
    "    .orderBy(\"count\", ascending=False) \\\n",
    "    .show(50,truncate=False)\n",
    "\n",
    "commitments_df.groupBy(\"VehicleType\") \\\n",
    "    .count() \\\n",
    "    .orderBy(\"count\", ascending=False) \\\n",
    "    .show(50,truncate=False)\n",
    "\n"
   ]
  },
  {
   "cell_type": "code",
   "execution_count": 0,
   "metadata": {
    "application/vnd.databricks.v1+cell": {
     "cellMetadata": {
      "byteLimit": 2048000,
      "rowLimit": 10000
     },
     "inputWidgets": {},
     "nuid": "1e182432-e62c-4791-9737-21d218f04d44",
     "showTitle": false,
     "tableResultSettingsMap": {},
     "title": ""
    },
    "jupyter": {
     "source_hidden": true
    }
   },
   "outputs": [
    {
     "output_type": "display_data",
     "data": {
      "text/html": [
       "<html>\n",
       "<head><meta charset=\"utf-8\" /></head>\n",
       "<body>\n",
       "    <div>            <script src=\"https://cdnjs.cloudflare.com/ajax/libs/mathjax/2.7.5/MathJax.js?config=TeX-AMS-MML_SVG\"></script><script type=\"text/javascript\">if (window.MathJax && window.MathJax.Hub && window.MathJax.Hub.Config) {window.MathJax.Hub.Config({SVG: {font: \"STIX-Web\"}});}</script>                <script type=\"text/javascript\">window.PlotlyConfig = {MathJaxConfig: 'local'};</script>\n",
       "        <script charset=\"utf-8\" src=\"https://cdn.plot.ly/plotly-2.32.0.min.js\"></script>                <div id=\"12fde5b2-c757-445c-9797-65e877177580\" class=\"plotly-graph-div\" style=\"height:100%; width:100%;\"></div>            <script type=\"text/javascript\">                                    window.PLOTLYENV=window.PLOTLYENV || {};                                    if (document.getElementById(\"12fde5b2-c757-445c-9797-65e877177580\")) {                    Plotly.newPlot(                        \"12fde5b2-c757-445c-9797-65e877177580\",                        [{\"domain\":{\"x\":[0.0,1.0],\"y\":[0.0,1.0]},\"hole\":0.3,\"hovertemplate\":\"RelationshipType=%{label}\\u003cbr\\u003ecount=%{value}\\u003cextra\\u003e\\u003c\\u002fextra\\u003e\",\"labels\":[\"Other Partner \\u002f Enabler\",\"Need Introduction\",\"Friends & Family, Limited Partner\",\"Friends & Family\",\"Low Prospect\",\"High Prospect\",\"Medium Prospect\",\"Limited Partner\",\"Actively Prospecting\",\"Need to Review\",\"Other\"],\"legendgroup\":\"\",\"name\":\"\",\"showlegend\":true,\"values\":[562,528,509,401,342,324,306,271,136,106,502],\"type\":\"pie\",\"marker\":{\"line\":{\"color\":\"#000000\",\"width\":2}}}],                        {\"template\":{\"data\":{\"histogram2dcontour\":[{\"type\":\"histogram2dcontour\",\"colorbar\":{\"outlinewidth\":0,\"ticks\":\"\"},\"colorscale\":[[0.0,\"#0d0887\"],[0.1111111111111111,\"#46039f\"],[0.2222222222222222,\"#7201a8\"],[0.3333333333333333,\"#9c179e\"],[0.4444444444444444,\"#bd3786\"],[0.5555555555555556,\"#d8576b\"],[0.6666666666666666,\"#ed7953\"],[0.7777777777777778,\"#fb9f3a\"],[0.8888888888888888,\"#fdca26\"],[1.0,\"#f0f921\"]]}],\"choropleth\":[{\"type\":\"choropleth\",\"colorbar\":{\"outlinewidth\":0,\"ticks\":\"\"}}],\"histogram2d\":[{\"type\":\"histogram2d\",\"colorbar\":{\"outlinewidth\":0,\"ticks\":\"\"},\"colorscale\":[[0.0,\"#0d0887\"],[0.1111111111111111,\"#46039f\"],[0.2222222222222222,\"#7201a8\"],[0.3333333333333333,\"#9c179e\"],[0.4444444444444444,\"#bd3786\"],[0.5555555555555556,\"#d8576b\"],[0.6666666666666666,\"#ed7953\"],[0.7777777777777778,\"#fb9f3a\"],[0.8888888888888888,\"#fdca26\"],[1.0,\"#f0f921\"]]}],\"heatmap\":[{\"type\":\"heatmap\",\"colorbar\":{\"outlinewidth\":0,\"ticks\":\"\"},\"colorscale\":[[0.0,\"#0d0887\"],[0.1111111111111111,\"#46039f\"],[0.2222222222222222,\"#7201a8\"],[0.3333333333333333,\"#9c179e\"],[0.4444444444444444,\"#bd3786\"],[0.5555555555555556,\"#d8576b\"],[0.6666666666666666,\"#ed7953\"],[0.7777777777777778,\"#fb9f3a\"],[0.8888888888888888,\"#fdca26\"],[1.0,\"#f0f921\"]]}],\"heatmapgl\":[{\"type\":\"heatmapgl\",\"colorbar\":{\"outlinewidth\":0,\"ticks\":\"\"},\"colorscale\":[[0.0,\"#0d0887\"],[0.1111111111111111,\"#46039f\"],[0.2222222222222222,\"#7201a8\"],[0.3333333333333333,\"#9c179e\"],[0.4444444444444444,\"#bd3786\"],[0.5555555555555556,\"#d8576b\"],[0.6666666666666666,\"#ed7953\"],[0.7777777777777778,\"#fb9f3a\"],[0.8888888888888888,\"#fdca26\"],[1.0,\"#f0f921\"]]}],\"contourcarpet\":[{\"type\":\"contourcarpet\",\"colorbar\":{\"outlinewidth\":0,\"ticks\":\"\"}}],\"contour\":[{\"type\":\"contour\",\"colorbar\":{\"outlinewidth\":0,\"ticks\":\"\"},\"colorscale\":[[0.0,\"#0d0887\"],[0.1111111111111111,\"#46039f\"],[0.2222222222222222,\"#7201a8\"],[0.3333333333333333,\"#9c179e\"],[0.4444444444444444,\"#bd3786\"],[0.5555555555555556,\"#d8576b\"],[0.6666666666666666,\"#ed7953\"],[0.7777777777777778,\"#fb9f3a\"],[0.8888888888888888,\"#fdca26\"],[1.0,\"#f0f921\"]]}],\"surface\":[{\"type\":\"surface\",\"colorbar\":{\"outlinewidth\":0,\"ticks\":\"\"},\"colorscale\":[[0.0,\"#0d0887\"],[0.1111111111111111,\"#46039f\"],[0.2222222222222222,\"#7201a8\"],[0.3333333333333333,\"#9c179e\"],[0.4444444444444444,\"#bd3786\"],[0.5555555555555556,\"#d8576b\"],[0.6666666666666666,\"#ed7953\"],[0.7777777777777778,\"#fb9f3a\"],[0.8888888888888888,\"#fdca26\"],[1.0,\"#f0f921\"]]}],\"mesh3d\":[{\"type\":\"mesh3d\",\"colorbar\":{\"outlinewidth\":0,\"ticks\":\"\"}}],\"scatter\":[{\"fillpattern\":{\"fillmode\":\"overlay\",\"size\":10,\"solidity\":0.2},\"type\":\"scatter\"}],\"parcoords\":[{\"type\":\"parcoords\",\"line\":{\"colorbar\":{\"outlinewidth\":0,\"ticks\":\"\"}}}],\"scatterpolargl\":[{\"type\":\"scatterpolargl\",\"marker\":{\"colorbar\":{\"outlinewidth\":0,\"ticks\":\"\"}}}],\"bar\":[{\"error_x\":{\"color\":\"#2a3f5f\"},\"error_y\":{\"color\":\"#2a3f5f\"},\"marker\":{\"line\":{\"color\":\"#E5ECF6\",\"width\":0.5},\"pattern\":{\"fillmode\":\"overlay\",\"size\":10,\"solidity\":0.2}},\"type\":\"bar\"}],\"scattergeo\":[{\"type\":\"scattergeo\",\"marker\":{\"colorbar\":{\"outlinewidth\":0,\"ticks\":\"\"}}}],\"scatterpolar\":[{\"type\":\"scatterpolar\",\"marker\":{\"colorbar\":{\"outlinewidth\":0,\"ticks\":\"\"}}}],\"histogram\":[{\"marker\":{\"pattern\":{\"fillmode\":\"overlay\",\"size\":10,\"solidity\":0.2}},\"type\":\"histogram\"}],\"scattergl\":[{\"type\":\"scattergl\",\"marker\":{\"colorbar\":{\"outlinewidth\":0,\"ticks\":\"\"}}}],\"scatter3d\":[{\"type\":\"scatter3d\",\"line\":{\"colorbar\":{\"outlinewidth\":0,\"ticks\":\"\"}},\"marker\":{\"colorbar\":{\"outlinewidth\":0,\"ticks\":\"\"}}}],\"scattermapbox\":[{\"type\":\"scattermapbox\",\"marker\":{\"colorbar\":{\"outlinewidth\":0,\"ticks\":\"\"}}}],\"scatterternary\":[{\"type\":\"scatterternary\",\"marker\":{\"colorbar\":{\"outlinewidth\":0,\"ticks\":\"\"}}}],\"scattercarpet\":[{\"type\":\"scattercarpet\",\"marker\":{\"colorbar\":{\"outlinewidth\":0,\"ticks\":\"\"}}}],\"carpet\":[{\"aaxis\":{\"endlinecolor\":\"#2a3f5f\",\"gridcolor\":\"white\",\"linecolor\":\"white\",\"minorgridcolor\":\"white\",\"startlinecolor\":\"#2a3f5f\"},\"baxis\":{\"endlinecolor\":\"#2a3f5f\",\"gridcolor\":\"white\",\"linecolor\":\"white\",\"minorgridcolor\":\"white\",\"startlinecolor\":\"#2a3f5f\"},\"type\":\"carpet\"}],\"table\":[{\"cells\":{\"fill\":{\"color\":\"#EBF0F8\"},\"line\":{\"color\":\"white\"}},\"header\":{\"fill\":{\"color\":\"#C8D4E3\"},\"line\":{\"color\":\"white\"}},\"type\":\"table\"}],\"barpolar\":[{\"marker\":{\"line\":{\"color\":\"#E5ECF6\",\"width\":0.5},\"pattern\":{\"fillmode\":\"overlay\",\"size\":10,\"solidity\":0.2}},\"type\":\"barpolar\"}],\"pie\":[{\"automargin\":true,\"type\":\"pie\"}]},\"layout\":{\"autotypenumbers\":\"strict\",\"colorway\":[\"#636efa\",\"#EF553B\",\"#00cc96\",\"#ab63fa\",\"#FFA15A\",\"#19d3f3\",\"#FF6692\",\"#B6E880\",\"#FF97FF\",\"#FECB52\"],\"font\":{\"color\":\"#2a3f5f\"},\"hovermode\":\"closest\",\"hoverlabel\":{\"align\":\"left\"},\"paper_bgcolor\":\"white\",\"plot_bgcolor\":\"#E5ECF6\",\"polar\":{\"bgcolor\":\"#E5ECF6\",\"angularaxis\":{\"gridcolor\":\"white\",\"linecolor\":\"white\",\"ticks\":\"\"},\"radialaxis\":{\"gridcolor\":\"white\",\"linecolor\":\"white\",\"ticks\":\"\"}},\"ternary\":{\"bgcolor\":\"#E5ECF6\",\"aaxis\":{\"gridcolor\":\"white\",\"linecolor\":\"white\",\"ticks\":\"\"},\"baxis\":{\"gridcolor\":\"white\",\"linecolor\":\"white\",\"ticks\":\"\"},\"caxis\":{\"gridcolor\":\"white\",\"linecolor\":\"white\",\"ticks\":\"\"}},\"coloraxis\":{\"colorbar\":{\"outlinewidth\":0,\"ticks\":\"\"}},\"colorscale\":{\"sequential\":[[0.0,\"#0d0887\"],[0.1111111111111111,\"#46039f\"],[0.2222222222222222,\"#7201a8\"],[0.3333333333333333,\"#9c179e\"],[0.4444444444444444,\"#bd3786\"],[0.5555555555555556,\"#d8576b\"],[0.6666666666666666,\"#ed7953\"],[0.7777777777777778,\"#fb9f3a\"],[0.8888888888888888,\"#fdca26\"],[1.0,\"#f0f921\"]],\"sequentialminus\":[[0.0,\"#0d0887\"],[0.1111111111111111,\"#46039f\"],[0.2222222222222222,\"#7201a8\"],[0.3333333333333333,\"#9c179e\"],[0.4444444444444444,\"#bd3786\"],[0.5555555555555556,\"#d8576b\"],[0.6666666666666666,\"#ed7953\"],[0.7777777777777778,\"#fb9f3a\"],[0.8888888888888888,\"#fdca26\"],[1.0,\"#f0f921\"]],\"diverging\":[[0,\"#8e0152\"],[0.1,\"#c51b7d\"],[0.2,\"#de77ae\"],[0.3,\"#f1b6da\"],[0.4,\"#fde0ef\"],[0.5,\"#f7f7f7\"],[0.6,\"#e6f5d0\"],[0.7,\"#b8e186\"],[0.8,\"#7fbc41\"],[0.9,\"#4d9221\"],[1,\"#276419\"]]},\"xaxis\":{\"gridcolor\":\"white\",\"linecolor\":\"white\",\"ticks\":\"\",\"title\":{\"standoff\":15},\"zerolinecolor\":\"white\",\"automargin\":true,\"zerolinewidth\":2},\"yaxis\":{\"gridcolor\":\"white\",\"linecolor\":\"white\",\"ticks\":\"\",\"title\":{\"standoff\":15},\"zerolinecolor\":\"white\",\"automargin\":true,\"zerolinewidth\":2},\"scene\":{\"xaxis\":{\"backgroundcolor\":\"#E5ECF6\",\"gridcolor\":\"white\",\"linecolor\":\"white\",\"showbackground\":true,\"ticks\":\"\",\"zerolinecolor\":\"white\",\"gridwidth\":2},\"yaxis\":{\"backgroundcolor\":\"#E5ECF6\",\"gridcolor\":\"white\",\"linecolor\":\"white\",\"showbackground\":true,\"ticks\":\"\",\"zerolinecolor\":\"white\",\"gridwidth\":2},\"zaxis\":{\"backgroundcolor\":\"#E5ECF6\",\"gridcolor\":\"white\",\"linecolor\":\"white\",\"showbackground\":true,\"ticks\":\"\",\"zerolinecolor\":\"white\",\"gridwidth\":2}},\"shapedefaults\":{\"line\":{\"color\":\"#2a3f5f\"}},\"annotationdefaults\":{\"arrowcolor\":\"#2a3f5f\",\"arrowhead\":0,\"arrowwidth\":1},\"geo\":{\"bgcolor\":\"white\",\"landcolor\":\"#E5ECF6\",\"subunitcolor\":\"white\",\"showland\":true,\"showlakes\":true,\"lakecolor\":\"white\"},\"title\":{\"x\":0.05},\"mapbox\":{\"style\":\"light\"}}},\"legend\":{\"tracegroupgap\":0},\"title\":{\"text\":\"RelationshipType Distribution\"}},                        {\"responsive\": true}                    )                };                            </script>        </div>\n",
       "</body>\n",
       "</html>"
      ]
     },
     "metadata": {},
     "output_type": "display_data"
    },
    {
     "output_type": "display_data",
     "data": {
      "text/html": [
       "<html>\n",
       "<head><meta charset=\"utf-8\" /></head>\n",
       "<body>\n",
       "    <div>            <script src=\"https://cdnjs.cloudflare.com/ajax/libs/mathjax/2.7.5/MathJax.js?config=TeX-AMS-MML_SVG\"></script><script type=\"text/javascript\">if (window.MathJax && window.MathJax.Hub && window.MathJax.Hub.Config) {window.MathJax.Hub.Config({SVG: {font: \"STIX-Web\"}});}</script>                <script type=\"text/javascript\">window.PlotlyConfig = {MathJaxConfig: 'local'};</script>\n",
       "        <script charset=\"utf-8\" src=\"https://cdn.plot.ly/plotly-2.32.0.min.js\"></script>                <div id=\"34ddf8bd-55b2-4b0d-93e9-b08e2a67e32c\" class=\"plotly-graph-div\" style=\"height:100%; width:100%;\"></div>            <script type=\"text/javascript\">                                    window.PLOTLYENV=window.PLOTLYENV || {};                                    if (document.getElementById(\"34ddf8bd-55b2-4b0d-93e9-b08e2a67e32c\")) {                    Plotly.newPlot(                        \"34ddf8bd-55b2-4b0d-93e9-b08e2a67e32c\",                        [{\"domain\":{\"x\":[0.0,1.0],\"y\":[0.0,1.0]},\"hole\":0.3,\"hovertemplate\":\"AccountType=%{label}\\u003cbr\\u003ecount=%{value}\\u003cextra\\u003e\\u003c\\u002fextra\\u003e\",\"labels\":[\"High Net Worth Individual\",\"Single Family Office\",\"Public Pension\",\"Multi-Family Office\",null,\"Emerging Manager\",\"Corporate Strategic\",\"Endowment\",\"Fund of Funds\",\"Financial Institution\",\"Other\"],\"legendgroup\":\"\",\"name\":\"\",\"showlegend\":true,\"values\":[943,564,393,207,187,179,133,133,131,129,988],\"type\":\"pie\",\"marker\":{\"line\":{\"color\":\"#000000\",\"width\":2}}}],                        {\"template\":{\"data\":{\"histogram2dcontour\":[{\"type\":\"histogram2dcontour\",\"colorbar\":{\"outlinewidth\":0,\"ticks\":\"\"},\"colorscale\":[[0.0,\"#0d0887\"],[0.1111111111111111,\"#46039f\"],[0.2222222222222222,\"#7201a8\"],[0.3333333333333333,\"#9c179e\"],[0.4444444444444444,\"#bd3786\"],[0.5555555555555556,\"#d8576b\"],[0.6666666666666666,\"#ed7953\"],[0.7777777777777778,\"#fb9f3a\"],[0.8888888888888888,\"#fdca26\"],[1.0,\"#f0f921\"]]}],\"choropleth\":[{\"type\":\"choropleth\",\"colorbar\":{\"outlinewidth\":0,\"ticks\":\"\"}}],\"histogram2d\":[{\"type\":\"histogram2d\",\"colorbar\":{\"outlinewidth\":0,\"ticks\":\"\"},\"colorscale\":[[0.0,\"#0d0887\"],[0.1111111111111111,\"#46039f\"],[0.2222222222222222,\"#7201a8\"],[0.3333333333333333,\"#9c179e\"],[0.4444444444444444,\"#bd3786\"],[0.5555555555555556,\"#d8576b\"],[0.6666666666666666,\"#ed7953\"],[0.7777777777777778,\"#fb9f3a\"],[0.8888888888888888,\"#fdca26\"],[1.0,\"#f0f921\"]]}],\"heatmap\":[{\"type\":\"heatmap\",\"colorbar\":{\"outlinewidth\":0,\"ticks\":\"\"},\"colorscale\":[[0.0,\"#0d0887\"],[0.1111111111111111,\"#46039f\"],[0.2222222222222222,\"#7201a8\"],[0.3333333333333333,\"#9c179e\"],[0.4444444444444444,\"#bd3786\"],[0.5555555555555556,\"#d8576b\"],[0.6666666666666666,\"#ed7953\"],[0.7777777777777778,\"#fb9f3a\"],[0.8888888888888888,\"#fdca26\"],[1.0,\"#f0f921\"]]}],\"heatmapgl\":[{\"type\":\"heatmapgl\",\"colorbar\":{\"outlinewidth\":0,\"ticks\":\"\"},\"colorscale\":[[0.0,\"#0d0887\"],[0.1111111111111111,\"#46039f\"],[0.2222222222222222,\"#7201a8\"],[0.3333333333333333,\"#9c179e\"],[0.4444444444444444,\"#bd3786\"],[0.5555555555555556,\"#d8576b\"],[0.6666666666666666,\"#ed7953\"],[0.7777777777777778,\"#fb9f3a\"],[0.8888888888888888,\"#fdca26\"],[1.0,\"#f0f921\"]]}],\"contourcarpet\":[{\"type\":\"contourcarpet\",\"colorbar\":{\"outlinewidth\":0,\"ticks\":\"\"}}],\"contour\":[{\"type\":\"contour\",\"colorbar\":{\"outlinewidth\":0,\"ticks\":\"\"},\"colorscale\":[[0.0,\"#0d0887\"],[0.1111111111111111,\"#46039f\"],[0.2222222222222222,\"#7201a8\"],[0.3333333333333333,\"#9c179e\"],[0.4444444444444444,\"#bd3786\"],[0.5555555555555556,\"#d8576b\"],[0.6666666666666666,\"#ed7953\"],[0.7777777777777778,\"#fb9f3a\"],[0.8888888888888888,\"#fdca26\"],[1.0,\"#f0f921\"]]}],\"surface\":[{\"type\":\"surface\",\"colorbar\":{\"outlinewidth\":0,\"ticks\":\"\"},\"colorscale\":[[0.0,\"#0d0887\"],[0.1111111111111111,\"#46039f\"],[0.2222222222222222,\"#7201a8\"],[0.3333333333333333,\"#9c179e\"],[0.4444444444444444,\"#bd3786\"],[0.5555555555555556,\"#d8576b\"],[0.6666666666666666,\"#ed7953\"],[0.7777777777777778,\"#fb9f3a\"],[0.8888888888888888,\"#fdca26\"],[1.0,\"#f0f921\"]]}],\"mesh3d\":[{\"type\":\"mesh3d\",\"colorbar\":{\"outlinewidth\":0,\"ticks\":\"\"}}],\"scatter\":[{\"fillpattern\":{\"fillmode\":\"overlay\",\"size\":10,\"solidity\":0.2},\"type\":\"scatter\"}],\"parcoords\":[{\"type\":\"parcoords\",\"line\":{\"colorbar\":{\"outlinewidth\":0,\"ticks\":\"\"}}}],\"scatterpolargl\":[{\"type\":\"scatterpolargl\",\"marker\":{\"colorbar\":{\"outlinewidth\":0,\"ticks\":\"\"}}}],\"bar\":[{\"error_x\":{\"color\":\"#2a3f5f\"},\"error_y\":{\"color\":\"#2a3f5f\"},\"marker\":{\"line\":{\"color\":\"#E5ECF6\",\"width\":0.5},\"pattern\":{\"fillmode\":\"overlay\",\"size\":10,\"solidity\":0.2}},\"type\":\"bar\"}],\"scattergeo\":[{\"type\":\"scattergeo\",\"marker\":{\"colorbar\":{\"outlinewidth\":0,\"ticks\":\"\"}}}],\"scatterpolar\":[{\"type\":\"scatterpolar\",\"marker\":{\"colorbar\":{\"outlinewidth\":0,\"ticks\":\"\"}}}],\"histogram\":[{\"marker\":{\"pattern\":{\"fillmode\":\"overlay\",\"size\":10,\"solidity\":0.2}},\"type\":\"histogram\"}],\"scattergl\":[{\"type\":\"scattergl\",\"marker\":{\"colorbar\":{\"outlinewidth\":0,\"ticks\":\"\"}}}],\"scatter3d\":[{\"type\":\"scatter3d\",\"line\":{\"colorbar\":{\"outlinewidth\":0,\"ticks\":\"\"}},\"marker\":{\"colorbar\":{\"outlinewidth\":0,\"ticks\":\"\"}}}],\"scattermapbox\":[{\"type\":\"scattermapbox\",\"marker\":{\"colorbar\":{\"outlinewidth\":0,\"ticks\":\"\"}}}],\"scatterternary\":[{\"type\":\"scatterternary\",\"marker\":{\"colorbar\":{\"outlinewidth\":0,\"ticks\":\"\"}}}],\"scattercarpet\":[{\"type\":\"scattercarpet\",\"marker\":{\"colorbar\":{\"outlinewidth\":0,\"ticks\":\"\"}}}],\"carpet\":[{\"aaxis\":{\"endlinecolor\":\"#2a3f5f\",\"gridcolor\":\"white\",\"linecolor\":\"white\",\"minorgridcolor\":\"white\",\"startlinecolor\":\"#2a3f5f\"},\"baxis\":{\"endlinecolor\":\"#2a3f5f\",\"gridcolor\":\"white\",\"linecolor\":\"white\",\"minorgridcolor\":\"white\",\"startlinecolor\":\"#2a3f5f\"},\"type\":\"carpet\"}],\"table\":[{\"cells\":{\"fill\":{\"color\":\"#EBF0F8\"},\"line\":{\"color\":\"white\"}},\"header\":{\"fill\":{\"color\":\"#C8D4E3\"},\"line\":{\"color\":\"white\"}},\"type\":\"table\"}],\"barpolar\":[{\"marker\":{\"line\":{\"color\":\"#E5ECF6\",\"width\":0.5},\"pattern\":{\"fillmode\":\"overlay\",\"size\":10,\"solidity\":0.2}},\"type\":\"barpolar\"}],\"pie\":[{\"automargin\":true,\"type\":\"pie\"}]},\"layout\":{\"autotypenumbers\":\"strict\",\"colorway\":[\"#636efa\",\"#EF553B\",\"#00cc96\",\"#ab63fa\",\"#FFA15A\",\"#19d3f3\",\"#FF6692\",\"#B6E880\",\"#FF97FF\",\"#FECB52\"],\"font\":{\"color\":\"#2a3f5f\"},\"hovermode\":\"closest\",\"hoverlabel\":{\"align\":\"left\"},\"paper_bgcolor\":\"white\",\"plot_bgcolor\":\"#E5ECF6\",\"polar\":{\"bgcolor\":\"#E5ECF6\",\"angularaxis\":{\"gridcolor\":\"white\",\"linecolor\":\"white\",\"ticks\":\"\"},\"radialaxis\":{\"gridcolor\":\"white\",\"linecolor\":\"white\",\"ticks\":\"\"}},\"ternary\":{\"bgcolor\":\"#E5ECF6\",\"aaxis\":{\"gridcolor\":\"white\",\"linecolor\":\"white\",\"ticks\":\"\"},\"baxis\":{\"gridcolor\":\"white\",\"linecolor\":\"white\",\"ticks\":\"\"},\"caxis\":{\"gridcolor\":\"white\",\"linecolor\":\"white\",\"ticks\":\"\"}},\"coloraxis\":{\"colorbar\":{\"outlinewidth\":0,\"ticks\":\"\"}},\"colorscale\":{\"sequential\":[[0.0,\"#0d0887\"],[0.1111111111111111,\"#46039f\"],[0.2222222222222222,\"#7201a8\"],[0.3333333333333333,\"#9c179e\"],[0.4444444444444444,\"#bd3786\"],[0.5555555555555556,\"#d8576b\"],[0.6666666666666666,\"#ed7953\"],[0.7777777777777778,\"#fb9f3a\"],[0.8888888888888888,\"#fdca26\"],[1.0,\"#f0f921\"]],\"sequentialminus\":[[0.0,\"#0d0887\"],[0.1111111111111111,\"#46039f\"],[0.2222222222222222,\"#7201a8\"],[0.3333333333333333,\"#9c179e\"],[0.4444444444444444,\"#bd3786\"],[0.5555555555555556,\"#d8576b\"],[0.6666666666666666,\"#ed7953\"],[0.7777777777777778,\"#fb9f3a\"],[0.8888888888888888,\"#fdca26\"],[1.0,\"#f0f921\"]],\"diverging\":[[0,\"#8e0152\"],[0.1,\"#c51b7d\"],[0.2,\"#de77ae\"],[0.3,\"#f1b6da\"],[0.4,\"#fde0ef\"],[0.5,\"#f7f7f7\"],[0.6,\"#e6f5d0\"],[0.7,\"#b8e186\"],[0.8,\"#7fbc41\"],[0.9,\"#4d9221\"],[1,\"#276419\"]]},\"xaxis\":{\"gridcolor\":\"white\",\"linecolor\":\"white\",\"ticks\":\"\",\"title\":{\"standoff\":15},\"zerolinecolor\":\"white\",\"automargin\":true,\"zerolinewidth\":2},\"yaxis\":{\"gridcolor\":\"white\",\"linecolor\":\"white\",\"ticks\":\"\",\"title\":{\"standoff\":15},\"zerolinecolor\":\"white\",\"automargin\":true,\"zerolinewidth\":2},\"scene\":{\"xaxis\":{\"backgroundcolor\":\"#E5ECF6\",\"gridcolor\":\"white\",\"linecolor\":\"white\",\"showbackground\":true,\"ticks\":\"\",\"zerolinecolor\":\"white\",\"gridwidth\":2},\"yaxis\":{\"backgroundcolor\":\"#E5ECF6\",\"gridcolor\":\"white\",\"linecolor\":\"white\",\"showbackground\":true,\"ticks\":\"\",\"zerolinecolor\":\"white\",\"gridwidth\":2},\"zaxis\":{\"backgroundcolor\":\"#E5ECF6\",\"gridcolor\":\"white\",\"linecolor\":\"white\",\"showbackground\":true,\"ticks\":\"\",\"zerolinecolor\":\"white\",\"gridwidth\":2}},\"shapedefaults\":{\"line\":{\"color\":\"#2a3f5f\"}},\"annotationdefaults\":{\"arrowcolor\":\"#2a3f5f\",\"arrowhead\":0,\"arrowwidth\":1},\"geo\":{\"bgcolor\":\"white\",\"landcolor\":\"#E5ECF6\",\"subunitcolor\":\"white\",\"showland\":true,\"showlakes\":true,\"lakecolor\":\"white\"},\"title\":{\"x\":0.05},\"mapbox\":{\"style\":\"light\"}}},\"legend\":{\"tracegroupgap\":0},\"title\":{\"text\":\"AccountType Distribution\"}},                        {\"responsive\": true}                    )                };                            </script>        </div>\n",
       "</body>\n",
       "</html>"
      ]
     },
     "metadata": {},
     "output_type": "display_data"
    },
    {
     "output_type": "display_data",
     "data": {
      "text/html": [
       "<html>\n",
       "<head><meta charset=\"utf-8\" /></head>\n",
       "<body>\n",
       "    <div>            <script src=\"https://cdnjs.cloudflare.com/ajax/libs/mathjax/2.7.5/MathJax.js?config=TeX-AMS-MML_SVG\"></script><script type=\"text/javascript\">if (window.MathJax && window.MathJax.Hub && window.MathJax.Hub.Config) {window.MathJax.Hub.Config({SVG: {font: \"STIX-Web\"}});}</script>                <script type=\"text/javascript\">window.PlotlyConfig = {MathJaxConfig: 'local'};</script>\n",
       "        <script charset=\"utf-8\" src=\"https://cdn.plot.ly/plotly-2.32.0.min.js\"></script>                <div id=\"da99485d-395e-472a-b45b-cda2fad6118a\" class=\"plotly-graph-div\" style=\"height:100%; width:100%;\"></div>            <script type=\"text/javascript\">                                    window.PLOTLYENV=window.PLOTLYENV || {};                                    if (document.getElementById(\"da99485d-395e-472a-b45b-cda2fad6118a\")) {                    Plotly.newPlot(                        \"da99485d-395e-472a-b45b-cda2fad6118a\",                        [{\"domain\":{\"x\":[0.0,1.0],\"y\":[0.0,1.0]},\"hole\":0.3,\"hovertemplate\":\"VehicleType=%{label}\\u003cbr\\u003ecount=%{value}\\u003cextra\\u003e\\u003c\\u002fextra\\u003e\",\"labels\":[\"Main Fund\",\"Q Fund\",\"B Fund\",\"Annual Fund - Coterie\",\"A Fund\",\"CLF Fund\",\"Annual Fund\",\"Annual Fund - Kirkland\",\"Co-Invest\",null,\"Other\"],\"legendgroup\":\"\",\"name\":\"\",\"showlegend\":true,\"values\":[4558,1470,763,464,332,144,114,97,97,32,11],\"type\":\"pie\",\"marker\":{\"line\":{\"color\":\"#000000\",\"width\":2}}}],                        {\"template\":{\"data\":{\"histogram2dcontour\":[{\"type\":\"histogram2dcontour\",\"colorbar\":{\"outlinewidth\":0,\"ticks\":\"\"},\"colorscale\":[[0.0,\"#0d0887\"],[0.1111111111111111,\"#46039f\"],[0.2222222222222222,\"#7201a8\"],[0.3333333333333333,\"#9c179e\"],[0.4444444444444444,\"#bd3786\"],[0.5555555555555556,\"#d8576b\"],[0.6666666666666666,\"#ed7953\"],[0.7777777777777778,\"#fb9f3a\"],[0.8888888888888888,\"#fdca26\"],[1.0,\"#f0f921\"]]}],\"choropleth\":[{\"type\":\"choropleth\",\"colorbar\":{\"outlinewidth\":0,\"ticks\":\"\"}}],\"histogram2d\":[{\"type\":\"histogram2d\",\"colorbar\":{\"outlinewidth\":0,\"ticks\":\"\"},\"colorscale\":[[0.0,\"#0d0887\"],[0.1111111111111111,\"#46039f\"],[0.2222222222222222,\"#7201a8\"],[0.3333333333333333,\"#9c179e\"],[0.4444444444444444,\"#bd3786\"],[0.5555555555555556,\"#d8576b\"],[0.6666666666666666,\"#ed7953\"],[0.7777777777777778,\"#fb9f3a\"],[0.8888888888888888,\"#fdca26\"],[1.0,\"#f0f921\"]]}],\"heatmap\":[{\"type\":\"heatmap\",\"colorbar\":{\"outlinewidth\":0,\"ticks\":\"\"},\"colorscale\":[[0.0,\"#0d0887\"],[0.1111111111111111,\"#46039f\"],[0.2222222222222222,\"#7201a8\"],[0.3333333333333333,\"#9c179e\"],[0.4444444444444444,\"#bd3786\"],[0.5555555555555556,\"#d8576b\"],[0.6666666666666666,\"#ed7953\"],[0.7777777777777778,\"#fb9f3a\"],[0.8888888888888888,\"#fdca26\"],[1.0,\"#f0f921\"]]}],\"heatmapgl\":[{\"type\":\"heatmapgl\",\"colorbar\":{\"outlinewidth\":0,\"ticks\":\"\"},\"colorscale\":[[0.0,\"#0d0887\"],[0.1111111111111111,\"#46039f\"],[0.2222222222222222,\"#7201a8\"],[0.3333333333333333,\"#9c179e\"],[0.4444444444444444,\"#bd3786\"],[0.5555555555555556,\"#d8576b\"],[0.6666666666666666,\"#ed7953\"],[0.7777777777777778,\"#fb9f3a\"],[0.8888888888888888,\"#fdca26\"],[1.0,\"#f0f921\"]]}],\"contourcarpet\":[{\"type\":\"contourcarpet\",\"colorbar\":{\"outlinewidth\":0,\"ticks\":\"\"}}],\"contour\":[{\"type\":\"contour\",\"colorbar\":{\"outlinewidth\":0,\"ticks\":\"\"},\"colorscale\":[[0.0,\"#0d0887\"],[0.1111111111111111,\"#46039f\"],[0.2222222222222222,\"#7201a8\"],[0.3333333333333333,\"#9c179e\"],[0.4444444444444444,\"#bd3786\"],[0.5555555555555556,\"#d8576b\"],[0.6666666666666666,\"#ed7953\"],[0.7777777777777778,\"#fb9f3a\"],[0.8888888888888888,\"#fdca26\"],[1.0,\"#f0f921\"]]}],\"surface\":[{\"type\":\"surface\",\"colorbar\":{\"outlinewidth\":0,\"ticks\":\"\"},\"colorscale\":[[0.0,\"#0d0887\"],[0.1111111111111111,\"#46039f\"],[0.2222222222222222,\"#7201a8\"],[0.3333333333333333,\"#9c179e\"],[0.4444444444444444,\"#bd3786\"],[0.5555555555555556,\"#d8576b\"],[0.6666666666666666,\"#ed7953\"],[0.7777777777777778,\"#fb9f3a\"],[0.8888888888888888,\"#fdca26\"],[1.0,\"#f0f921\"]]}],\"mesh3d\":[{\"type\":\"mesh3d\",\"colorbar\":{\"outlinewidth\":0,\"ticks\":\"\"}}],\"scatter\":[{\"fillpattern\":{\"fillmode\":\"overlay\",\"size\":10,\"solidity\":0.2},\"type\":\"scatter\"}],\"parcoords\":[{\"type\":\"parcoords\",\"line\":{\"colorbar\":{\"outlinewidth\":0,\"ticks\":\"\"}}}],\"scatterpolargl\":[{\"type\":\"scatterpolargl\",\"marker\":{\"colorbar\":{\"outlinewidth\":0,\"ticks\":\"\"}}}],\"bar\":[{\"error_x\":{\"color\":\"#2a3f5f\"},\"error_y\":{\"color\":\"#2a3f5f\"},\"marker\":{\"line\":{\"color\":\"#E5ECF6\",\"width\":0.5},\"pattern\":{\"fillmode\":\"overlay\",\"size\":10,\"solidity\":0.2}},\"type\":\"bar\"}],\"scattergeo\":[{\"type\":\"scattergeo\",\"marker\":{\"colorbar\":{\"outlinewidth\":0,\"ticks\":\"\"}}}],\"scatterpolar\":[{\"type\":\"scatterpolar\",\"marker\":{\"colorbar\":{\"outlinewidth\":0,\"ticks\":\"\"}}}],\"histogram\":[{\"marker\":{\"pattern\":{\"fillmode\":\"overlay\",\"size\":10,\"solidity\":0.2}},\"type\":\"histogram\"}],\"scattergl\":[{\"type\":\"scattergl\",\"marker\":{\"colorbar\":{\"outlinewidth\":0,\"ticks\":\"\"}}}],\"scatter3d\":[{\"type\":\"scatter3d\",\"line\":{\"colorbar\":{\"outlinewidth\":0,\"ticks\":\"\"}},\"marker\":{\"colorbar\":{\"outlinewidth\":0,\"ticks\":\"\"}}}],\"scattermapbox\":[{\"type\":\"scattermapbox\",\"marker\":{\"colorbar\":{\"outlinewidth\":0,\"ticks\":\"\"}}}],\"scatterternary\":[{\"type\":\"scatterternary\",\"marker\":{\"colorbar\":{\"outlinewidth\":0,\"ticks\":\"\"}}}],\"scattercarpet\":[{\"type\":\"scattercarpet\",\"marker\":{\"colorbar\":{\"outlinewidth\":0,\"ticks\":\"\"}}}],\"carpet\":[{\"aaxis\":{\"endlinecolor\":\"#2a3f5f\",\"gridcolor\":\"white\",\"linecolor\":\"white\",\"minorgridcolor\":\"white\",\"startlinecolor\":\"#2a3f5f\"},\"baxis\":{\"endlinecolor\":\"#2a3f5f\",\"gridcolor\":\"white\",\"linecolor\":\"white\",\"minorgridcolor\":\"white\",\"startlinecolor\":\"#2a3f5f\"},\"type\":\"carpet\"}],\"table\":[{\"cells\":{\"fill\":{\"color\":\"#EBF0F8\"},\"line\":{\"color\":\"white\"}},\"header\":{\"fill\":{\"color\":\"#C8D4E3\"},\"line\":{\"color\":\"white\"}},\"type\":\"table\"}],\"barpolar\":[{\"marker\":{\"line\":{\"color\":\"#E5ECF6\",\"width\":0.5},\"pattern\":{\"fillmode\":\"overlay\",\"size\":10,\"solidity\":0.2}},\"type\":\"barpolar\"}],\"pie\":[{\"automargin\":true,\"type\":\"pie\"}]},\"layout\":{\"autotypenumbers\":\"strict\",\"colorway\":[\"#636efa\",\"#EF553B\",\"#00cc96\",\"#ab63fa\",\"#FFA15A\",\"#19d3f3\",\"#FF6692\",\"#B6E880\",\"#FF97FF\",\"#FECB52\"],\"font\":{\"color\":\"#2a3f5f\"},\"hovermode\":\"closest\",\"hoverlabel\":{\"align\":\"left\"},\"paper_bgcolor\":\"white\",\"plot_bgcolor\":\"#E5ECF6\",\"polar\":{\"bgcolor\":\"#E5ECF6\",\"angularaxis\":{\"gridcolor\":\"white\",\"linecolor\":\"white\",\"ticks\":\"\"},\"radialaxis\":{\"gridcolor\":\"white\",\"linecolor\":\"white\",\"ticks\":\"\"}},\"ternary\":{\"bgcolor\":\"#E5ECF6\",\"aaxis\":{\"gridcolor\":\"white\",\"linecolor\":\"white\",\"ticks\":\"\"},\"baxis\":{\"gridcolor\":\"white\",\"linecolor\":\"white\",\"ticks\":\"\"},\"caxis\":{\"gridcolor\":\"white\",\"linecolor\":\"white\",\"ticks\":\"\"}},\"coloraxis\":{\"colorbar\":{\"outlinewidth\":0,\"ticks\":\"\"}},\"colorscale\":{\"sequential\":[[0.0,\"#0d0887\"],[0.1111111111111111,\"#46039f\"],[0.2222222222222222,\"#7201a8\"],[0.3333333333333333,\"#9c179e\"],[0.4444444444444444,\"#bd3786\"],[0.5555555555555556,\"#d8576b\"],[0.6666666666666666,\"#ed7953\"],[0.7777777777777778,\"#fb9f3a\"],[0.8888888888888888,\"#fdca26\"],[1.0,\"#f0f921\"]],\"sequentialminus\":[[0.0,\"#0d0887\"],[0.1111111111111111,\"#46039f\"],[0.2222222222222222,\"#7201a8\"],[0.3333333333333333,\"#9c179e\"],[0.4444444444444444,\"#bd3786\"],[0.5555555555555556,\"#d8576b\"],[0.6666666666666666,\"#ed7953\"],[0.7777777777777778,\"#fb9f3a\"],[0.8888888888888888,\"#fdca26\"],[1.0,\"#f0f921\"]],\"diverging\":[[0,\"#8e0152\"],[0.1,\"#c51b7d\"],[0.2,\"#de77ae\"],[0.3,\"#f1b6da\"],[0.4,\"#fde0ef\"],[0.5,\"#f7f7f7\"],[0.6,\"#e6f5d0\"],[0.7,\"#b8e186\"],[0.8,\"#7fbc41\"],[0.9,\"#4d9221\"],[1,\"#276419\"]]},\"xaxis\":{\"gridcolor\":\"white\",\"linecolor\":\"white\",\"ticks\":\"\",\"title\":{\"standoff\":15},\"zerolinecolor\":\"white\",\"automargin\":true,\"zerolinewidth\":2},\"yaxis\":{\"gridcolor\":\"white\",\"linecolor\":\"white\",\"ticks\":\"\",\"title\":{\"standoff\":15},\"zerolinecolor\":\"white\",\"automargin\":true,\"zerolinewidth\":2},\"scene\":{\"xaxis\":{\"backgroundcolor\":\"#E5ECF6\",\"gridcolor\":\"white\",\"linecolor\":\"white\",\"showbackground\":true,\"ticks\":\"\",\"zerolinecolor\":\"white\",\"gridwidth\":2},\"yaxis\":{\"backgroundcolor\":\"#E5ECF6\",\"gridcolor\":\"white\",\"linecolor\":\"white\",\"showbackground\":true,\"ticks\":\"\",\"zerolinecolor\":\"white\",\"gridwidth\":2},\"zaxis\":{\"backgroundcolor\":\"#E5ECF6\",\"gridcolor\":\"white\",\"linecolor\":\"white\",\"showbackground\":true,\"ticks\":\"\",\"zerolinecolor\":\"white\",\"gridwidth\":2}},\"shapedefaults\":{\"line\":{\"color\":\"#2a3f5f\"}},\"annotationdefaults\":{\"arrowcolor\":\"#2a3f5f\",\"arrowhead\":0,\"arrowwidth\":1},\"geo\":{\"bgcolor\":\"white\",\"landcolor\":\"#E5ECF6\",\"subunitcolor\":\"white\",\"showland\":true,\"showlakes\":true,\"lakecolor\":\"white\"},\"title\":{\"x\":0.05},\"mapbox\":{\"style\":\"light\"}}},\"legend\":{\"tracegroupgap\":0},\"title\":{\"text\":\"VehicleType Distribution\"}},                        {\"responsive\": true}                    )                };                            </script>        </div>\n",
       "</body>\n",
       "</html>"
      ]
     },
     "metadata": {},
     "output_type": "display_data"
    }
   ],
   "source": [
    "# Plot Pie Charts\n",
    "\n",
    "import plotly.express as px\n",
    "import pandas as pd\n",
    "\n",
    "def plot_pie_plotly_with_other(df, category_col, count_col='count', top_n=10, title=\"\"):\n",
    "    # Sort and create 'Other' category\n",
    "    df_sorted = df.sort_values(by=count_col, ascending=False).reset_index(drop=True)\n",
    "    top_categories = df_sorted.iloc[:top_n]\n",
    "    other_categories = df_sorted.iloc[top_n:]\n",
    "    other_sum = other_categories[count_col].sum()\n",
    "    \n",
    "    # Append 'Other' row if there is any data in other categories\n",
    "    if other_sum > 0:\n",
    "        df_final = pd.concat([top_categories, pd.DataFrame({category_col: ['Other'], count_col: [other_sum]})], ignore_index=True)\n",
    "    else:\n",
    "        df_final = top_categories\n",
    "\n",
    "    fig = px.pie(df_final, values=count_col, names=category_col, title=title, hole=0.3)  # hole=0.3 for donut chart\n",
    "    \n",
    "    # Add border to slices for better visuals\n",
    "    fig.update_traces(marker=dict(line=dict(color='#000000', width=2)))\n",
    "    \n",
    "    fig.show()\n",
    "\n",
    "# Example usage for RelationshipType\n",
    "rel_counts = accounts_df.groupBy(\"RelationshipType\").count().toPandas()\n",
    "plot_pie_plotly_with_other(rel_counts, 'RelationshipType', 'count', top_n=10, title='RelationshipType Distribution')\n",
    "\n",
    "# AccountType\n",
    "acct_counts = accounts_df.groupBy(\"AccountType\").count().toPandas()\n",
    "plot_pie_plotly_with_other(acct_counts, 'AccountType', 'count', top_n=10, title='AccountType Distribution')\n",
    "\n",
    "# VehicleType\n",
    "veh_counts = commitments_df.groupBy(\"VehicleType\").count().toPandas()\n",
    "plot_pie_plotly_with_other(veh_counts, 'VehicleType', 'count', top_n=10, title='VehicleType Distribution')\n"
   ]
  },
  {
   "cell_type": "markdown",
   "metadata": {
    "application/vnd.databricks.v1+cell": {
     "cellMetadata": {
      "byteLimit": 2048000,
      "rowLimit": 10000
     },
     "inputWidgets": {},
     "nuid": "fbab14eb-7fc7-484d-83d0-e7294b30085a",
     "showTitle": false,
     "tableResultSettingsMap": {},
     "title": ""
    }
   },
   "source": [
    "We can already indentify some trends in the data. The Main Fund is overwhelmingly the fund with the largest # of commitments, \"High Net Worth Individuals\" and \"Other\" categories tend to make up the largest Account Types. The RelationshipType distribution is fairly evenly distributed."
   ]
  },
  {
   "cell_type": "markdown",
   "metadata": {
    "application/vnd.databricks.v1+cell": {
     "cellMetadata": {
      "byteLimit": 2048000,
      "rowLimit": 10000
     },
     "inputWidgets": {},
     "nuid": "b249986d-8e8b-48b7-850c-fc13aaedbe15",
     "showTitle": false,
     "tableResultSettingsMap": {},
     "title": ""
    }
   },
   "source": [
    "Next, I want to analyze the makeup of the BiteLow and BiteHigh columns to get a better understanding of the average, mean, and standard deviation."
   ]
  },
  {
   "cell_type": "code",
   "execution_count": 0,
   "metadata": {
    "application/vnd.databricks.v1+cell": {
     "cellMetadata": {
      "byteLimit": 2048000,
      "rowLimit": 10000
     },
     "inputWidgets": {},
     "nuid": "87393de9-4df6-4c7a-989f-e4544dfbf8cf",
     "showTitle": false,
     "tableResultSettingsMap": {},
     "title": ""
    }
   },
   "outputs": [
    {
     "output_type": "stream",
     "name": "stdout",
     "output_type": "stream",
     "text": [
      "+-------+------------------+------------------+\n|summary|           BiteLow|          BiteHigh|\n+-------+------------------+------------------+\n|  count|              1420|              1419|\n|   mean|14.587922535211266|40.882840028188866|\n| stddev| 26.66185688703746|  79.3028969222704|\n|    min|               0.0|               0.0|\n|    max|             500.0|            1000.0|\n+-------+------------------+------------------+\n\n+-------+--------------------+\n|summary|          Commitment|\n+-------+--------------------+\n|  count|                8067|\n|   mean|   5772520.951178878|\n| stddev|1.4192247973811848E7|\n|    min|                 0.0|\n|    max|               3.3E8|\n+-------+--------------------+\n\n"
     ]
    }
   ],
   "source": [
    "accounts_df.describe(\"BiteLow\", \"BiteHigh\").show()\n",
    "commitments_df.describe(\"Commitment\").show()\n"
   ]
  },
  {
   "cell_type": "code",
   "execution_count": 0,
   "metadata": {
    "application/vnd.databricks.v1+cell": {
     "cellMetadata": {
      "byteLimit": 2048000,
      "rowLimit": 10000
     },
     "inputWidgets": {},
     "nuid": "5f8aebef-cfb0-45e9-b03d-88e1642ee057",
     "showTitle": false,
     "tableResultSettingsMap": {},
     "title": ""
    },
    "jupyter": {
     "source_hidden": true
    }
   },
   "outputs": [],
   "source": [
    "from pyspark.sql.functions import col\n",
    "\n",
    "joined_df=spark.table(\"default.prod_accounts_commitments\")\n",
    "filtered_df = joined_df.filter(\n",
    "    (col(\"BiteLow\").isNotNull()) & (col(\"BiteLow\") > 0) &\n",
    "    (col(\"BiteHigh\").isNotNull()) & (col(\"BiteHigh\") > 0) &\n",
    "    (col(\"Commitment\").isNotNull()) & (col(\"Commitment\") > 0)\n",
    ")\n",
    "pdf = filtered_df.select(\"BiteLow\", \"BiteHigh\", \"Commitment\").toPandas()\n"
   ]
  },
  {
   "cell_type": "markdown",
   "metadata": {
    "application/vnd.databricks.v1+cell": {
     "cellMetadata": {
      "byteLimit": 2048000,
      "rowLimit": 10000
     },
     "inputWidgets": {},
     "nuid": "eb96dbe0-b1cf-4b81-87ca-a89811054f9b",
     "showTitle": false,
     "tableResultSettingsMap": {},
     "title": ""
    }
   },
   "source": [
    "To get a deeper understanding of the VehicleType field, we can get an understanding of Average, Total, and Count of commitments for each fund."
   ]
  },
  {
   "cell_type": "code",
   "execution_count": 0,
   "metadata": {
    "application/vnd.databricks.v1+cell": {
     "cellMetadata": {
      "byteLimit": 2048000,
      "rowLimit": 10000
     },
     "inputWidgets": {},
     "nuid": "1caaae37-3393-4cac-9897-6e96a3b33d91",
     "showTitle": false,
     "tableResultSettingsMap": {},
     "title": ""
    },
    "jupyter": {
     "source_hidden": true
    }
   },
   "outputs": [
    {
     "output_type": "stream",
     "name": "stdout",
     "output_type": "stream",
     "text": [
      "+--------------------+-----------------+--------------------+--------------------+\n|         VehicleType|count_commitments|      avg_commitment|    total_commitment|\n+--------------------+-----------------+--------------------+--------------------+\n|           Main Fund|             4558|   8860678.666377798|4.038697336135000...|\n|              Q Fund|             1470|  1090797.3010748301|1.6034720325800002E9|\n|         Annual Fund|              113| 1.284536358477876E7|     1.45152608508E9|\n|                 SMA|               11| 8.606025909181818E7|      9.4666285001E8|\n|              B Fund|              763|   945705.1651114024|      7.2157304098E8|\n|Annual Fund - Cot...|              464|  1257877.1551724137|           5.83655E8|\n|           Co-Invest|               93|  3625399.9411827954|      3.3716219453E8|\n|                NULL|               23|1.2411224347826088E7|         2.8545816E8|\n|Annual Fund - Kir...|               96|   981510.4166666666|            9.4225E7|\n|              A Fund|              332|   258977.4511445783|       8.598051378E7|\n|            CLF Fund|              144|   487765.7975694444|       7.023827485E7|\n+--------------------+-----------------+--------------------+--------------------+\n\n"
     ]
    }
   ],
   "source": [
    "from pyspark.sql.functions import mean, sum\n",
    "\n",
    "commitments_df.groupBy(\"VehicleType\").agg(\n",
    "    count(\"Commitment\").alias(\"count_commitments\"),\n",
    "    mean(\"Commitment\").alias(\"avg_commitment\"),\n",
    "    sum(\"Commitment\").alias(\"total_commitment\")\n",
    ").orderBy(\"total_commitment\", ascending=False).show()\n"
   ]
  },
  {
   "cell_type": "markdown",
   "metadata": {
    "application/vnd.databricks.v1+cell": {
     "cellMetadata": {
      "byteLimit": 2048000,
      "rowLimit": 10000
     },
     "inputWidgets": {},
     "nuid": "30372075-593d-4434-a55c-bb530cb8f78f",
     "showTitle": false,
     "tableResultSettingsMap": {},
     "title": ""
    }
   },
   "source": [
    "We can see that different funds have different strategies. The Main Fund has a lower avg commitment but a higher count of commitments, while the SMA Fund has by far the highest avg commitment but only 11 commitments total."
   ]
  },
  {
   "cell_type": "code",
   "execution_count": 0,
   "metadata": {
    "application/vnd.databricks.v1+cell": {
     "cellMetadata": {
      "byteLimit": 2048000,
      "rowLimit": 10000
     },
     "inputWidgets": {},
     "nuid": "028d58f0-d7a9-4c52-9aff-a54ef4e3eda5",
     "showTitle": false,
     "tableResultSettingsMap": {},
     "title": ""
    },
    "jupyter": {
     "source_hidden": true
    }
   },
   "outputs": [
    {
     "output_type": "stream",
     "name": "stdout",
     "output_type": "stream",
     "text": [
      "+--------------------+---------------+--------------------+--------------------+\n|    RelationshipType|num_commitments|      avg_commitment|    total_commitment|\n+--------------------+---------------+--------------------+--------------------+\n|     Limited Partner|           4270|   8410634.491606556|3.591340927915999...|\n|Limited Partner, ...|            420|   9380452.138952384|3.9397898983600016E9|\n|             unknown|           1674|  1462546.6571146958|2.4483031040100007E9|\n|a16z Vehicle, Lim...|             75|      2.1331303584E7|      1.5998477688E9|\n|Friends & Family,...|           1027|   799228.5959006825|  8.20807767990001E8|\n|Limited Partner, ...|             28|2.8826236931428574E7|      8.0713463408E8|\n|    a16z Employee LP|            418|   1456072.120741627|      6.0863814647E8|\n|           Exited LP|              8|       2.425189394E7|      1.9401515152E8|\n|Limited Partner, ...|              1|               5.0E7|               5.0E7|\n|        a16z Vehicle|              3|1.4327974746666664E7|4.2983924239999995E7|\n|Friends & Family,...|             90|   310907.8314444445|2.7981704830000002E7|\n|Limited Partner, ...|              9|  2810854.0477777775|       2.529768643E7|\n|Limited Partner, ...|              6|           3750000.0|              2.25E7|\n|Limited Partner, ...|              6|  2602887.6149999998|       1.561732569E7|\n|Friends & Family,...|              6|  2416666.6666666665|              1.45E7|\n|Limited Partner, ...|              5|           1700000.0|           8500000.0|\n|Limited Partner, CLF|              4|         2056273.025|           8225092.1|\n|Limited Partner, ...|              4|          1451257.37|          5805029.48|\n|Friends & Family,...|              2|           2685000.0|           5370000.0|\n|Limited Partner, ...|              5|            640000.0|           3200000.0|\n|Friends & Family,...|              1|           3000000.0|           3000000.0|\n|Limited Partner, ...|              2|            500000.0|           1000000.0|\n|      Need to Review|              1|            500000.0|            500000.0|\n|Friends & Family,...|              2|            250000.0|            500000.0|\n+--------------------+---------------+--------------------+--------------------+\n\n"
     ]
    }
   ],
   "source": [
    "joined_df = spark.table(\"default.prod_accounts_commitments\")\n",
    "from pyspark.sql.functions import count, avg, sum\n",
    "joined_df.groupBy(\"RelationshipType\").agg(\n",
    "    count(\"Commitment\").alias(\"num_commitments\"),\n",
    "    avg(\"Commitment\").alias(\"avg_commitment\"),\n",
    "    sum(\"Commitment\").alias(\"total_commitment\")\n",
    ").orderBy(\"total_commitment\", ascending=False).show(50)\n"
   ]
  },
  {
   "cell_type": "markdown",
   "metadata": {
    "application/vnd.databricks.v1+cell": {
     "cellMetadata": {
      "byteLimit": 2048000,
      "rowLimit": 10000
     },
     "inputWidgets": {},
     "nuid": "6ee9768b-7007-4752-be9c-96b1792b2159",
     "showTitle": false,
     "tableResultSettingsMap": {},
     "title": ""
    }
   },
   "source": [
    "Looking into the RelationshipType details, we can identify similar trends in the data. The general LP category is the largest with a lower avg commitment, while certain other Relationship Types have much higher average commitments. The \"unknown\" field is very large, which indicates a data quality issue that's worth prioritizing for more accurate analysis.\n",
    "\n",
    "Let's analyze the last categorical category, AccountType."
   ]
  },
  {
   "cell_type": "code",
   "execution_count": 0,
   "metadata": {
    "application/vnd.databricks.v1+cell": {
     "cellMetadata": {
      "byteLimit": 2048000,
      "rowLimit": 10000
     },
     "inputWidgets": {},
     "nuid": "11b5709b-a86d-4876-8a53-5ea9e9422c08",
     "showTitle": false,
     "tableResultSettingsMap": {},
     "title": ""
    },
    "jupyter": {
     "source_hidden": true
    }
   },
   "outputs": [
    {
     "output_type": "stream",
     "name": "stdout",
     "output_type": "stream",
     "text": [
      "+-------------------------+---------------+--------------------+--------------------+\n|AccountType              |num_commitments|avg_commitment      |total_commitment    |\n+-------------------------+---------------+--------------------+--------------------+\n|Fund of Funds            |1473           |5845379.906693823   |8.610244602560001E9 |\n|Endowment                |683            |1.2520406265139092E7|8.55143747909E9     |\n|Single Family Office     |806            |5951756.8479280425  |4.797116019430002E9 |\n|Sovereign Wealth Fund    |95             |3.7316803588421054E7|3.5450963409E9      |\n|Corporate Pension        |145            |2.1635717629448276E7|3.13717905627E9     |\n|Foundation               |351            |8009589.4369800575  |2.81136589238E9     |\n|Public Pension           |90             |3.0705005991111107E7|2.7634505392E9      |\n|unknown                  |1674           |1462546.6571146958  |2.4483031040100007E9|\n|a16z Vehicle             |496            |4539253.7086895155  |2.2514698395099998E9|\n|Multi-Family Office      |291            |7272964.725532646   |2.11643273513E9     |\n|Healthcare System        |178            |8608700.092191013   |1.53234861641E9     |\n|Financial Institution    |323            |3733809.457956656   |1.2060204549199998E9|\n|Insurance                |185            |6282389.321405405   |1.16224202446E9     |\n|High Net Worth Individual|1066           |736509.4765290816   |7.85119101980001E8  |\n|Consultant               |152            |3278706.4348026323  |4.983633780900001E8 |\n|Corporate Strategic      |41             |7244673.485609757   |2.9703161291E8      |\n|Direct Investment Fund   |13             |2352557.4315384617  |3.058324661E7       |\n|Private Wealth           |2              |1.12765E7           |2.2553E7            |\n|Need to Review           |1              |500000.0            |500000.0            |\n|Company/Start-up         |2              |34734.65            |69469.3             |\n+-------------------------+---------------+--------------------+--------------------+\n\n"
     ]
    }
   ],
   "source": [
    "from pyspark.sql.functions import count, avg, sum\n",
    "\n",
    "# Aggregate by AccountType\n",
    "joined_df.groupBy(\"AccountType\").agg(\n",
    "    count(\"Commitment\").alias(\"num_commitments\"),\n",
    "    avg(\"Commitment\").alias(\"avg_commitment\"),\n",
    "    sum(\"Commitment\").alias(\"total_commitment\")\n",
    ").orderBy(\"total_commitment\", ascending=False).show(50, truncate=False)\n"
   ]
  },
  {
   "cell_type": "markdown",
   "metadata": {
    "application/vnd.databricks.v1+cell": {
     "cellMetadata": {
      "byteLimit": 2048000,
      "rowLimit": 10000
     },
     "inputWidgets": {},
     "nuid": "fbf7cd2f-7487-41ec-aa6f-36faa76ac5f1",
     "showTitle": false,
     "tableResultSettingsMap": {},
     "title": ""
    }
   },
   "source": [
    "The Account Type with the most commitments is 'Unknown', which similarly poses a problem for very granular analysis. However, we can still inspect the other features in the data. While Fund of Funds has the largest total commitment, some small groups like Corporate Strategic and Healthcare Systems have a surprisingly high average commitment, across a quite small number of overall commitments. These may be under-explored segments."
   ]
  }
 ],
 "metadata": {
  "application/vnd.databricks.v1+notebook": {
   "computePreferences": null,
   "dashboards": [],
   "environmentMetadata": {
    "base_environment": "",
    "environment_version": "3"
   },
   "inputWidgetPreferences": null,
   "language": "python",
   "notebookMetadata": {
    "pythonIndentUnit": 4
   },
   "notebookName": "A16Z - Initial Analysis",
   "widgets": {}
  },
  "language_info": {
   "name": "python"
  }
 },
 "nbformat": 4,
 "nbformat_minor": 0
}